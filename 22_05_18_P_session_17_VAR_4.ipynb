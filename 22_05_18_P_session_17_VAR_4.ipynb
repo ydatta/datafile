{
  "nbformat": 4,
  "nbformat_minor": 0,
  "metadata": {
    "colab": {
      "name": "22-05-18 P. session 17 VAR_4",
      "provenance": [],
      "authorship_tag": "ABX9TyNsbujH2obmeBFmQa4AR2jR",
      "include_colab_link": true
    },
    "kernelspec": {
      "name": "python3",
      "display_name": "Python 3"
    },
    "language_info": {
      "name": "python"
    }
  },
  "cells": [
    {
      "cell_type": "markdown",
      "metadata": {
        "id": "view-in-github",
        "colab_type": "text"
      },
      "source": [
        "<a href=\"https://colab.research.google.com/github/ydatta/datafile/blob/main/22_05_18_P_session_17_VAR_4.ipynb\" target=\"_parent\"><img src=\"https://colab.research.google.com/assets/colab-badge.svg\" alt=\"Open In Colab\"/></a>"
      ]
    },
    {
      "cell_type": "markdown",
      "source": [
        "Whenever we are going to construct a VAR model we have to follow these steps\n",
        "1. import pandas & numpy library for uploading and number reading in data table\n",
        "2. import matplotlib for plotting the data\n",
        "3. Splitting the data into train(90%) & test(10%) and using the **train data for   ADFuller, VAR & VARMAX**\n",
        "4. import ADFuller for stationarity check\n",
        "5. import VAR for VAR order selection or lag determination with AIC test\n",
        "6. import VARMAX for constructing actual VAR model\n",
        "7. Use of VAR model for forecasting next (10% time)\n",
        "8. Comparing **test data  with forecasted data**  to see accuracy of predictability of VAR model"
      ],
      "metadata": {
        "id": "DovYhBo7EvA9"
      }
    },
    {
      "cell_type": "markdown",
      "source": [
        "1. Importing library pandas & nmpy for numbers & for uploading data table"
      ],
      "metadata": {
        "id": "26atyosw3d-n"
      }
    },
    {
      "cell_type": "code",
      "execution_count": 2,
      "metadata": {
        "id": "iiN8X8pt3R4z"
      },
      "outputs": [],
      "source": [
        "import pandas as pd\n",
        "import numpy as np"
      ]
    },
    {
      "cell_type": "code",
      "source": [
        "filepath='https://raw.githubusercontent.com/selva86/datasets/master/Raotbl6.csv'"
      ],
      "metadata": {
        "id": "DWUcSbM_4u5Q"
      },
      "execution_count": 3,
      "outputs": []
    },
    {
      "cell_type": "code",
      "source": [
        "macro_data=pd.read_csv(filepath,parse_dates=['date'],index_col='date')"
      ],
      "metadata": {
        "id": "_xk_1SSK4VB9"
      },
      "execution_count": 4,
      "outputs": []
    },
    {
      "cell_type": "code",
      "source": [
        "macro_data.head()"
      ],
      "metadata": {
        "colab": {
          "base_uri": "https://localhost:8080/",
          "height": 238
        },
        "id": "dEje_ZgW6Mvh",
        "outputId": "34619f6a-4b07-427a-d2f9-83290f5fb37f"
      },
      "execution_count": null,
      "outputs": [
        {
          "output_type": "execute_result",
          "data": {
            "text/plain": [
              "              rgnp    pgnp   ulc  gdfco   gdf  gdfim  gdfcf  gdfce\n",
              "date                                                              \n",
              "1959-01-01  1606.4  1608.3  47.5   36.9  37.4   26.9   32.3   23.1\n",
              "1959-04-01  1637.0  1622.2  47.5   37.4  37.5   27.0   32.2   23.4\n",
              "1959-07-01  1629.5  1636.2  48.7   37.6  37.6   27.1   32.4   23.4\n",
              "1959-10-01  1643.4  1650.3  48.8   37.7  37.8   27.1   32.5   23.8\n",
              "1960-01-01  1671.6  1664.6  49.1   37.8  37.8   27.2   32.4   23.8"
            ],
            "text/html": [
              "\n",
              "  <div id=\"df-5cced427-ba8e-4167-9f30-d4498b628974\">\n",
              "    <div class=\"colab-df-container\">\n",
              "      <div>\n",
              "<style scoped>\n",
              "    .dataframe tbody tr th:only-of-type {\n",
              "        vertical-align: middle;\n",
              "    }\n",
              "\n",
              "    .dataframe tbody tr th {\n",
              "        vertical-align: top;\n",
              "    }\n",
              "\n",
              "    .dataframe thead th {\n",
              "        text-align: right;\n",
              "    }\n",
              "</style>\n",
              "<table border=\"1\" class=\"dataframe\">\n",
              "  <thead>\n",
              "    <tr style=\"text-align: right;\">\n",
              "      <th></th>\n",
              "      <th>rgnp</th>\n",
              "      <th>pgnp</th>\n",
              "      <th>ulc</th>\n",
              "      <th>gdfco</th>\n",
              "      <th>gdf</th>\n",
              "      <th>gdfim</th>\n",
              "      <th>gdfcf</th>\n",
              "      <th>gdfce</th>\n",
              "    </tr>\n",
              "    <tr>\n",
              "      <th>date</th>\n",
              "      <th></th>\n",
              "      <th></th>\n",
              "      <th></th>\n",
              "      <th></th>\n",
              "      <th></th>\n",
              "      <th></th>\n",
              "      <th></th>\n",
              "      <th></th>\n",
              "    </tr>\n",
              "  </thead>\n",
              "  <tbody>\n",
              "    <tr>\n",
              "      <th>1959-01-01</th>\n",
              "      <td>1606.4</td>\n",
              "      <td>1608.3</td>\n",
              "      <td>47.5</td>\n",
              "      <td>36.9</td>\n",
              "      <td>37.4</td>\n",
              "      <td>26.9</td>\n",
              "      <td>32.3</td>\n",
              "      <td>23.1</td>\n",
              "    </tr>\n",
              "    <tr>\n",
              "      <th>1959-04-01</th>\n",
              "      <td>1637.0</td>\n",
              "      <td>1622.2</td>\n",
              "      <td>47.5</td>\n",
              "      <td>37.4</td>\n",
              "      <td>37.5</td>\n",
              "      <td>27.0</td>\n",
              "      <td>32.2</td>\n",
              "      <td>23.4</td>\n",
              "    </tr>\n",
              "    <tr>\n",
              "      <th>1959-07-01</th>\n",
              "      <td>1629.5</td>\n",
              "      <td>1636.2</td>\n",
              "      <td>48.7</td>\n",
              "      <td>37.6</td>\n",
              "      <td>37.6</td>\n",
              "      <td>27.1</td>\n",
              "      <td>32.4</td>\n",
              "      <td>23.4</td>\n",
              "    </tr>\n",
              "    <tr>\n",
              "      <th>1959-10-01</th>\n",
              "      <td>1643.4</td>\n",
              "      <td>1650.3</td>\n",
              "      <td>48.8</td>\n",
              "      <td>37.7</td>\n",
              "      <td>37.8</td>\n",
              "      <td>27.1</td>\n",
              "      <td>32.5</td>\n",
              "      <td>23.8</td>\n",
              "    </tr>\n",
              "    <tr>\n",
              "      <th>1960-01-01</th>\n",
              "      <td>1671.6</td>\n",
              "      <td>1664.6</td>\n",
              "      <td>49.1</td>\n",
              "      <td>37.8</td>\n",
              "      <td>37.8</td>\n",
              "      <td>27.2</td>\n",
              "      <td>32.4</td>\n",
              "      <td>23.8</td>\n",
              "    </tr>\n",
              "  </tbody>\n",
              "</table>\n",
              "</div>\n",
              "      <button class=\"colab-df-convert\" onclick=\"convertToInteractive('df-5cced427-ba8e-4167-9f30-d4498b628974')\"\n",
              "              title=\"Convert this dataframe to an interactive table.\"\n",
              "              style=\"display:none;\">\n",
              "        \n",
              "  <svg xmlns=\"http://www.w3.org/2000/svg\" height=\"24px\"viewBox=\"0 0 24 24\"\n",
              "       width=\"24px\">\n",
              "    <path d=\"M0 0h24v24H0V0z\" fill=\"none\"/>\n",
              "    <path d=\"M18.56 5.44l.94 2.06.94-2.06 2.06-.94-2.06-.94-.94-2.06-.94 2.06-2.06.94zm-11 1L8.5 8.5l.94-2.06 2.06-.94-2.06-.94L8.5 2.5l-.94 2.06-2.06.94zm10 10l.94 2.06.94-2.06 2.06-.94-2.06-.94-.94-2.06-.94 2.06-2.06.94z\"/><path d=\"M17.41 7.96l-1.37-1.37c-.4-.4-.92-.59-1.43-.59-.52 0-1.04.2-1.43.59L10.3 9.45l-7.72 7.72c-.78.78-.78 2.05 0 2.83L4 21.41c.39.39.9.59 1.41.59.51 0 1.02-.2 1.41-.59l7.78-7.78 2.81-2.81c.8-.78.8-2.07 0-2.86zM5.41 20L4 18.59l7.72-7.72 1.47 1.35L5.41 20z\"/>\n",
              "  </svg>\n",
              "      </button>\n",
              "      \n",
              "  <style>\n",
              "    .colab-df-container {\n",
              "      display:flex;\n",
              "      flex-wrap:wrap;\n",
              "      gap: 12px;\n",
              "    }\n",
              "\n",
              "    .colab-df-convert {\n",
              "      background-color: #E8F0FE;\n",
              "      border: none;\n",
              "      border-radius: 50%;\n",
              "      cursor: pointer;\n",
              "      display: none;\n",
              "      fill: #1967D2;\n",
              "      height: 32px;\n",
              "      padding: 0 0 0 0;\n",
              "      width: 32px;\n",
              "    }\n",
              "\n",
              "    .colab-df-convert:hover {\n",
              "      background-color: #E2EBFA;\n",
              "      box-shadow: 0px 1px 2px rgba(60, 64, 67, 0.3), 0px 1px 3px 1px rgba(60, 64, 67, 0.15);\n",
              "      fill: #174EA6;\n",
              "    }\n",
              "\n",
              "    [theme=dark] .colab-df-convert {\n",
              "      background-color: #3B4455;\n",
              "      fill: #D2E3FC;\n",
              "    }\n",
              "\n",
              "    [theme=dark] .colab-df-convert:hover {\n",
              "      background-color: #434B5C;\n",
              "      box-shadow: 0px 1px 3px 1px rgba(0, 0, 0, 0.15);\n",
              "      filter: drop-shadow(0px 1px 2px rgba(0, 0, 0, 0.3));\n",
              "      fill: #FFFFFF;\n",
              "    }\n",
              "  </style>\n",
              "\n",
              "      <script>\n",
              "        const buttonEl =\n",
              "          document.querySelector('#df-5cced427-ba8e-4167-9f30-d4498b628974 button.colab-df-convert');\n",
              "        buttonEl.style.display =\n",
              "          google.colab.kernel.accessAllowed ? 'block' : 'none';\n",
              "\n",
              "        async function convertToInteractive(key) {\n",
              "          const element = document.querySelector('#df-5cced427-ba8e-4167-9f30-d4498b628974');\n",
              "          const dataTable =\n",
              "            await google.colab.kernel.invokeFunction('convertToInteractive',\n",
              "                                                     [key], {});\n",
              "          if (!dataTable) return;\n",
              "\n",
              "          const docLinkHtml = 'Like what you see? Visit the ' +\n",
              "            '<a target=\"_blank\" href=https://colab.research.google.com/notebooks/data_table.ipynb>data table notebook</a>'\n",
              "            + ' to learn more about interactive tables.';\n",
              "          element.innerHTML = '';\n",
              "          dataTable['output_type'] = 'display_data';\n",
              "          await google.colab.output.renderOutput(dataTable, element);\n",
              "          const docLink = document.createElement('div');\n",
              "          docLink.innerHTML = docLinkHtml;\n",
              "          element.appendChild(docLink);\n",
              "        }\n",
              "      </script>\n",
              "    </div>\n",
              "  </div>\n",
              "  "
            ]
          },
          "metadata": {},
          "execution_count": 8
        }
      ]
    },
    {
      "cell_type": "markdown",
      "source": [
        "2. ploting the data table"
      ],
      "metadata": {
        "id": "1chkL29p7CRP"
      }
    },
    {
      "cell_type": "code",
      "source": [
        "import matplotlib.pyplot as plt\n",
        "%matplotlib inline"
      ],
      "metadata": {
        "id": "1NTRMZF67FIa"
      },
      "execution_count": null,
      "outputs": []
    },
    {
      "cell_type": "code",
      "source": [
        "# Essentials for ploting \n",
        "fig,axes=plt.subplots(nrows=4,ncols=2,dpi=80,figsize=(10,6))\n"
      ],
      "metadata": {
        "colab": {
          "base_uri": "https://localhost:8080/",
          "height": 417
        },
        "id": "rmSD1wyj7Y91",
        "outputId": "610a78d8-3c47-456a-aed8-4637a13ca6f7"
      },
      "execution_count": null,
      "outputs": [
        {
          "output_type": "display_data",
          "data": {
            "text/plain": [
              "<Figure size 800x480 with 8 Axes>"
            ],
            "image/png": "[encoded data removed]"
          },
          "metadata": {
            "needs_background": "light"
          }
        }
      ]
    },
    {
      "cell_type": "code",
      "source": [
        "fig,axes=plt.subplots(nrows=4,ncols=2,dpi=80,figsize=(10,6))\n",
        "for i,ax in enumerate(axes.flatten()):\n",
        "  data=macro_data[macro_data.columns[i]]\n",
        "  ax.plot(data,color='red',linewidth=1)\n",
        "  "
      ],
      "metadata": {
        "colab": {
          "base_uri": "https://localhost:8080/",
          "height": 413
        },
        "id": "aAuPcXlO-Pbg",
        "outputId": "47080cba-0382-43da-8483-fb72a23ee1ce"
      },
      "execution_count": null,
      "outputs": [
        {
          "output_type": "display_data",
          "data": {
            "text/plain": [
              "<Figure size 800x480 with 8 Axes>"
            ],
            "image/png": "[encoded data removed]"
          },
          "metadata": {
            "needs_background": "light"
          }
        }
      ]
    },
    {
      "cell_type": "code",
      "source": [
        "fig,axes=plt.subplots(nrows=4,ncols=2,dpi=80,figsize=(10,6))\n",
        "for i,ax in enumerate(axes.flatten()):\n",
        "  data=macro_data[macro_data.columns[i]]\n",
        "  ax.plot(data,color='red',linewidth=1)\n",
        "  ax.set_title(macro_data.columns[i])\n",
        "plt.tight_layout()"
      ],
      "metadata": {
        "colab": {
          "base_uri": "https://localhost:8080/",
          "height": 489
        },
        "id": "EPzVVH7kBVID",
        "outputId": "bccb9e89-f6ed-44d8-92a6-a85e1d6c3b64"
      },
      "execution_count": null,
      "outputs": [
        {
          "output_type": "display_data",
          "data": {
            "text/plain": [
              "<Figure size 800x480 with 8 Axes>"
            ],
            "image/png": "[encoded data removed]"
          },
          "metadata": {
            "needs_background": "light"
          }
        }
      ]
    },
    {
      "cell_type": "code",
      "source": [
        "fig,axes=plt.subplots(nrows=4,ncols=2,dpi=80,figsize=(10,6))\n",
        "for i,ax in enumerate(axes.flatten()):\n",
        "  data=macro_data[macro_data.columns[i]]\n",
        "  ax.plot(data,color='red',linewidth=1)\n",
        "  ax.set_title(macro_data.columns[i])\n",
        "  ax.xaxis.set_ticks_position('none')\n",
        "  ax.yaxis.set_ticks_position('none')\n",
        "plt.tight_layout()"
      ],
      "metadata": {
        "colab": {
          "base_uri": "https://localhost:8080/",
          "height": 489
        },
        "id": "yjtsXAAnAZDI",
        "outputId": "7ee2c94f-057f-42f2-c25c-e43f176625ba"
      },
      "execution_count": null,
      "outputs": [
        {
          "output_type": "display_data",
          "data": {
            "text/plain": [
              "<Figure size 800x480 with 8 Axes>"
            ],
            "image/png": "[encoded data removed]"
          },
          "metadata": {
            "needs_background": "light"
          }
        }
      ]
    },
    {
      "cell_type": "code",
      "source": [
        "fig,axes=plt.subplots(nrows=4,ncols=2,dpi=80,figsize=(10,6))\n",
        "for i,ax in enumerate(axes.flatten()):\n",
        "  data=macro_data[macro_data.columns[i]]\n",
        "  ax.plot(data,color='red',linewidth=1)\n",
        "  ax.set_title(macro_data.columns[i])\n",
        "  ax.xaxis.set_ticks_position('none')\n",
        "  ax.yaxis.set_ticks_position('none')\n",
        "  ax.spines[\"top\"].set_alpha(0)\n",
        "\n",
        "plt.tight_layout()"
      ],
      "metadata": {
        "colab": {
          "base_uri": "https://localhost:8080/",
          "height": 489
        },
        "id": "0H1fNDyrB7dk",
        "outputId": "14aba928-a48b-4310-912d-3b7bef113804"
      },
      "execution_count": null,
      "outputs": [
        {
          "output_type": "display_data",
          "data": {
            "text/plain": [
              "<Figure size 800x480 with 8 Axes>"
            ],
            "image/png": "[encoded data removed]"
          },
          "metadata": {
            "needs_background": "light"
          }
        }
      ]
    },
    {
      "cell_type": "code",
      "source": [
        "fig,axes=plt.subplots(nrows=4,ncols=2,dpi=80,figsize=(10,6))\n",
        "for i,ax in enumerate(axes.flatten()):\n",
        "  data=macro_data[macro_data.columns[i]]\n",
        "  ax.plot(data,color='red',linewidth=1)\n",
        "  ax.set_title(macro_data.columns[i])\n",
        "  ax.xaxis.set_ticks_position('none')\n",
        "  ax.yaxis.set_ticks_position('none')\n",
        "  ax.spines[\"top\"].set_alpha(0)\n",
        "  ax.tick_params(labelsize=8)\n",
        "\n",
        "plt.tight_layout()"
      ],
      "metadata": {
        "colab": {
          "base_uri": "https://localhost:8080/",
          "height": 489
        },
        "id": "gxQECyjNCo_S",
        "outputId": "1192f513-7686-4a46-a696-6f2388b05e23"
      },
      "execution_count": null,
      "outputs": [
        {
          "output_type": "display_data",
          "data": {
            "text/plain": [
              "<Figure size 800x480 with 8 Axes>"
            ],
            "image/png": "[encoded data removed]"
          },
          "metadata": {
            "needs_background": "light"
          }
        }
      ]
    },
    {
      "cell_type": "markdown",
      "source": [
        "3. Splitting the data into train(90%) & test(10%) and using the **train data for   ADFuller, VAR & VARMAX**"
      ],
      "metadata": {
        "id": "Dt0w47FiDipG"
      }
    },
    {
      "cell_type": "code",
      "source": [
        "train_dt=macro_data[0:-4]\n",
        "test_dt=macro_data[-4:]"
      ],
      "metadata": {
        "id": "1Cm93X4BDlR2"
      },
      "execution_count": 5,
      "outputs": []
    },
    {
      "cell_type": "code",
      "source": [
        "train_dt.tail()"
      ],
      "metadata": {
        "id": "BgJo-1ILEvyM",
        "outputId": "927ecb1c-aeee-4d6c-cc7a-e8bbd02f4803",
        "colab": {
          "base_uri": "https://localhost:8080/",
          "height": 238
        }
      },
      "execution_count": 9,
      "outputs": [
        {
          "output_type": "execute_result",
          "data": {
            "text/plain": [
              "              rgnp    pgnp    ulc  gdfco    gdf  gdfim  gdfcf  gdfce\n",
              "date                                                                \n",
              "1987-07-01  3872.8  3877.7  173.9  126.0  119.6  101.9  117.7   93.1\n",
              "1987-10-01  3935.6  3901.0  175.8  127.6  120.8  103.3  118.7   92.9\n",
              "1988-01-01  3974.8  3924.5  175.7  128.7  121.9  104.5  119.4   91.5\n",
              "1988-04-01  4010.7  3948.1  178.7  130.3  123.3  106.1  121.0   92.3\n",
              "1988-07-01  4042.7  3971.9  179.6  131.5  124.9  106.2  123.5   92.8"
            ],
            "text/html": [
              "\n",
              "  <div id=\"df-a5b91bc4-527f-470e-8b8c-9ce45cfca474\">\n",
              "    <div class=\"colab-df-container\">\n",
              "      <div>\n",
              "<style scoped>\n",
              "    .dataframe tbody tr th:only-of-type {\n",
              "        vertical-align: middle;\n",
              "    }\n",
              "\n",
              "    .dataframe tbody tr th {\n",
              "        vertical-align: top;\n",
              "    }\n",
              "\n",
              "    .dataframe thead th {\n",
              "        text-align: right;\n",
              "    }\n",
              "</style>\n",
              "<table border=\"1\" class=\"dataframe\">\n",
              "  <thead>\n",
              "    <tr style=\"text-align: right;\">\n",
              "      <th></th>\n",
              "      <th>rgnp</th>\n",
              "      <th>pgnp</th>\n",
              "      <th>ulc</th>\n",
              "      <th>gdfco</th>\n",
              "      <th>gdf</th>\n",
              "      <th>gdfim</th>\n",
              "      <th>gdfcf</th>\n",
              "      <th>gdfce</th>\n",
              "    </tr>\n",
              "    <tr>\n",
              "      <th>date</th>\n",
              "      <th></th>\n",
              "      <th></th>\n",
              "      <th></th>\n",
              "      <th></th>\n",
              "      <th></th>\n",
              "      <th></th>\n",
              "      <th></th>\n",
              "      <th></th>\n",
              "    </tr>\n",
              "  </thead>\n",
              "  <tbody>\n",
              "    <tr>\n",
              "      <th>1987-07-01</th>\n",
              "      <td>3872.8</td>\n",
              "      <td>3877.7</td>\n",
              "      <td>173.9</td>\n",
              "      <td>126.0</td>\n",
              "      <td>119.6</td>\n",
              "      <td>101.9</td>\n",
              "      <td>117.7</td>\n",
              "      <td>93.1</td>\n",
              "    </tr>\n",
              "    <tr>\n",
              "      <th>1987-10-01</th>\n",
              "      <td>3935.6</td>\n",
              "      <td>3901.0</td>\n",
              "      <td>175.8</td>\n",
              "      <td>127.6</td>\n",
              "      <td>120.8</td>\n",
              "      <td>103.3</td>\n",
              "      <td>118.7</td>\n",
              "      <td>92.9</td>\n",
              "    </tr>\n",
              "    <tr>\n",
              "      <th>1988-01-01</th>\n",
              "      <td>3974.8</td>\n",
              "      <td>3924.5</td>\n",
              "      <td>175.7</td>\n",
              "      <td>128.7</td>\n",
              "      <td>121.9</td>\n",
              "      <td>104.5</td>\n",
              "      <td>119.4</td>\n",
              "      <td>91.5</td>\n",
              "    </tr>\n",
              "    <tr>\n",
              "      <th>1988-04-01</th>\n",
              "      <td>4010.7</td>\n",
              "      <td>3948.1</td>\n",
              "      <td>178.7</td>\n",
              "      <td>130.3</td>\n",
              "      <td>123.3</td>\n",
              "      <td>106.1</td>\n",
              "      <td>121.0</td>\n",
              "      <td>92.3</td>\n",
              "    </tr>\n",
              "    <tr>\n",
              "      <th>1988-07-01</th>\n",
              "      <td>4042.7</td>\n",
              "      <td>3971.9</td>\n",
              "      <td>179.6</td>\n",
              "      <td>131.5</td>\n",
              "      <td>124.9</td>\n",
              "      <td>106.2</td>\n",
              "      <td>123.5</td>\n",
              "      <td>92.8</td>\n",
              "    </tr>\n",
              "  </tbody>\n",
              "</table>\n",
              "</div>\n",
              "      <button class=\"colab-df-convert\" onclick=\"convertToInteractive('df-a5b91bc4-527f-470e-8b8c-9ce45cfca474')\"\n",
              "              title=\"Convert this dataframe to an interactive table.\"\n",
              "              style=\"display:none;\">\n",
              "        \n",
              "  <svg xmlns=\"http://www.w3.org/2000/svg\" height=\"24px\"viewBox=\"0 0 24 24\"\n",
              "       width=\"24px\">\n",
              "    <path d=\"M0 0h24v24H0V0z\" fill=\"none\"/>\n",
              "    <path d=\"M18.56 5.44l.94 2.06.94-2.06 2.06-.94-2.06-.94-.94-2.06-.94 2.06-2.06.94zm-11 1L8.5 8.5l.94-2.06 2.06-.94-2.06-.94L8.5 2.5l-.94 2.06-2.06.94zm10 10l.94 2.06.94-2.06 2.06-.94-2.06-.94-.94-2.06-.94 2.06-2.06.94z\"/><path d=\"M17.41 7.96l-1.37-1.37c-.4-.4-.92-.59-1.43-.59-.52 0-1.04.2-1.43.59L10.3 9.45l-7.72 7.72c-.78.78-.78 2.05 0 2.83L4 21.41c.39.39.9.59 1.41.59.51 0 1.02-.2 1.41-.59l7.78-7.78 2.81-2.81c.8-.78.8-2.07 0-2.86zM5.41 20L4 18.59l7.72-7.72 1.47 1.35L5.41 20z\"/>\n",
              "  </svg>\n",
              "      </button>\n",
              "      \n",
              "  <style>\n",
              "    .colab-df-container {\n",
              "      display:flex;\n",
              "      flex-wrap:wrap;\n",
              "      gap: 12px;\n",
              "    }\n",
              "\n",
              "    .colab-df-convert {\n",
              "      background-color: #E8F0FE;\n",
              "      border: none;\n",
              "      border-radius: 50%;\n",
              "      cursor: pointer;\n",
              "      display: none;\n",
              "      fill: #1967D2;\n",
              "      height: 32px;\n",
              "      padding: 0 0 0 0;\n",
              "      width: 32px;\n",
              "    }\n",
              "\n",
              "    .colab-df-convert:hover {\n",
              "      background-color: #E2EBFA;\n",
              "      box-shadow: 0px 1px 2px rgba(60, 64, 67, 0.3), 0px 1px 3px 1px rgba(60, 64, 67, 0.15);\n",
              "      fill: #174EA6;\n",
              "    }\n",
              "\n",
              "    [theme=dark] .colab-df-convert {\n",
              "      background-color: #3B4455;\n",
              "      fill: #D2E3FC;\n",
              "    }\n",
              "\n",
              "    [theme=dark] .colab-df-convert:hover {\n",
              "      background-color: #434B5C;\n",
              "      box-shadow: 0px 1px 3px 1px rgba(0, 0, 0, 0.15);\n",
              "      filter: drop-shadow(0px 1px 2px rgba(0, 0, 0, 0.3));\n",
              "      fill: #FFFFFF;\n",
              "    }\n",
              "  </style>\n",
              "\n",
              "      <script>\n",
              "        const buttonEl =\n",
              "          document.querySelector('#df-a5b91bc4-527f-470e-8b8c-9ce45cfca474 button.colab-df-convert');\n",
              "        buttonEl.style.display =\n",
              "          google.colab.kernel.accessAllowed ? 'block' : 'none';\n",
              "\n",
              "        async function convertToInteractive(key) {\n",
              "          const element = document.querySelector('#df-a5b91bc4-527f-470e-8b8c-9ce45cfca474');\n",
              "          const dataTable =\n",
              "            await google.colab.kernel.invokeFunction('convertToInteractive',\n",
              "                                                     [key], {});\n",
              "          if (!dataTable) return;\n",
              "\n",
              "          const docLinkHtml = 'Like what you see? Visit the ' +\n",
              "            '<a target=\"_blank\" href=https://colab.research.google.com/notebooks/data_table.ipynb>data table notebook</a>'\n",
              "            + ' to learn more about interactive tables.';\n",
              "          element.innerHTML = '';\n",
              "          dataTable['output_type'] = 'display_data';\n",
              "          await google.colab.output.renderOutput(dataTable, element);\n",
              "          const docLink = document.createElement('div');\n",
              "          docLink.innerHTML = docLinkHtml;\n",
              "          element.appendChild(docLink);\n",
              "        }\n",
              "      </script>\n",
              "    </div>\n",
              "  </div>\n",
              "  "
            ]
          },
          "metadata": {},
          "execution_count": 9
        }
      ]
    },
    {
      "cell_type": "code",
      "source": [
        "test_dt"
      ],
      "metadata": {
        "id": "lIMiFOA9E5DT",
        "outputId": "752da61d-ecdd-4d5f-e6ab-16e5a6bdee1b",
        "colab": {
          "base_uri": "https://localhost:8080/",
          "height": 206
        }
      },
      "execution_count": 7,
      "outputs": [
        {
          "output_type": "execute_result",
          "data": {
            "text/plain": [
              "              rgnp    pgnp    ulc  gdfco    gdf  gdfim  gdfcf  gdfce\n",
              "date                                                                \n",
              "1988-10-01  4069.4  3995.8  181.3  133.3  126.2  107.3  124.9   92.9\n",
              "1989-01-01  4106.8  4019.9  184.1  134.8  127.7  109.5  126.6   94.0\n",
              "1989-04-01  4132.5  4044.1  186.1  134.8  129.3  111.1  129.0  100.6\n",
              "1989-07-01  4162.9  4068.4  187.4  137.2  130.2  109.8  129.9   98.2"
            ],
            "text/html": [
              "\n",
              "  <div id=\"df-11c2ed89-de05-40c8-a336-a640046ce46e\">\n",
              "    <div class=\"colab-df-container\">\n",
              "      <div>\n",
              "<style scoped>\n",
              "    .dataframe tbody tr th:only-of-type {\n",
              "        vertical-align: middle;\n",
              "    }\n",
              "\n",
              "    .dataframe tbody tr th {\n",
              "        vertical-align: top;\n",
              "    }\n",
              "\n",
              "    .dataframe thead th {\n",
              "        text-align: right;\n",
              "    }\n",
              "</style>\n",
              "<table border=\"1\" class=\"dataframe\">\n",
              "  <thead>\n",
              "    <tr style=\"text-align: right;\">\n",
              "      <th></th>\n",
              "      <th>rgnp</th>\n",
              "      <th>pgnp</th>\n",
              "      <th>ulc</th>\n",
              "      <th>gdfco</th>\n",
              "      <th>gdf</th>\n",
              "      <th>gdfim</th>\n",
              "      <th>gdfcf</th>\n",
              "      <th>gdfce</th>\n",
              "    </tr>\n",
              "    <tr>\n",
              "      <th>date</th>\n",
              "      <th></th>\n",
              "      <th></th>\n",
              "      <th></th>\n",
              "      <th></th>\n",
              "      <th></th>\n",
              "      <th></th>\n",
              "      <th></th>\n",
              "      <th></th>\n",
              "    </tr>\n",
              "  </thead>\n",
              "  <tbody>\n",
              "    <tr>\n",
              "      <th>1988-10-01</th>\n",
              "      <td>4069.4</td>\n",
              "      <td>3995.8</td>\n",
              "      <td>181.3</td>\n",
              "      <td>133.3</td>\n",
              "      <td>126.2</td>\n",
              "      <td>107.3</td>\n",
              "      <td>124.9</td>\n",
              "      <td>92.9</td>\n",
              "    </tr>\n",
              "    <tr>\n",
              "      <th>1989-01-01</th>\n",
              "      <td>4106.8</td>\n",
              "      <td>4019.9</td>\n",
              "      <td>184.1</td>\n",
              "      <td>134.8</td>\n",
              "      <td>127.7</td>\n",
              "      <td>109.5</td>\n",
              "      <td>126.6</td>\n",
              "      <td>94.0</td>\n",
              "    </tr>\n",
              "    <tr>\n",
              "      <th>1989-04-01</th>\n",
              "      <td>4132.5</td>\n",
              "      <td>4044.1</td>\n",
              "      <td>186.1</td>\n",
              "      <td>134.8</td>\n",
              "      <td>129.3</td>\n",
              "      <td>111.1</td>\n",
              "      <td>129.0</td>\n",
              "      <td>100.6</td>\n",
              "    </tr>\n",
              "    <tr>\n",
              "      <th>1989-07-01</th>\n",
              "      <td>4162.9</td>\n",
              "      <td>4068.4</td>\n",
              "      <td>187.4</td>\n",
              "      <td>137.2</td>\n",
              "      <td>130.2</td>\n",
              "      <td>109.8</td>\n",
              "      <td>129.9</td>\n",
              "      <td>98.2</td>\n",
              "    </tr>\n",
              "  </tbody>\n",
              "</table>\n",
              "</div>\n",
              "      <button class=\"colab-df-convert\" onclick=\"convertToInteractive('df-11c2ed89-de05-40c8-a336-a640046ce46e')\"\n",
              "              title=\"Convert this dataframe to an interactive table.\"\n",
              "              style=\"display:none;\">\n",
              "        \n",
              "  <svg xmlns=\"http://www.w3.org/2000/svg\" height=\"24px\"viewBox=\"0 0 24 24\"\n",
              "       width=\"24px\">\n",
              "    <path d=\"M0 0h24v24H0V0z\" fill=\"none\"/>\n",
              "    <path d=\"M18.56 5.44l.94 2.06.94-2.06 2.06-.94-2.06-.94-.94-2.06-.94 2.06-2.06.94zm-11 1L8.5 8.5l.94-2.06 2.06-.94-2.06-.94L8.5 2.5l-.94 2.06-2.06.94zm10 10l.94 2.06.94-2.06 2.06-.94-2.06-.94-.94-2.06-.94 2.06-2.06.94z\"/><path d=\"M17.41 7.96l-1.37-1.37c-.4-.4-.92-.59-1.43-.59-.52 0-1.04.2-1.43.59L10.3 9.45l-7.72 7.72c-.78.78-.78 2.05 0 2.83L4 21.41c.39.39.9.59 1.41.59.51 0 1.02-.2 1.41-.59l7.78-7.78 2.81-2.81c.8-.78.8-2.07 0-2.86zM5.41 20L4 18.59l7.72-7.72 1.47 1.35L5.41 20z\"/>\n",
              "  </svg>\n",
              "      </button>\n",
              "      \n",
              "  <style>\n",
              "    .colab-df-container {\n",
              "      display:flex;\n",
              "      flex-wrap:wrap;\n",
              "      gap: 12px;\n",
              "    }\n",
              "\n",
              "    .colab-df-convert {\n",
              "      background-color: #E8F0FE;\n",
              "      border: none;\n",
              "      border-radius: 50%;\n",
              "      cursor: pointer;\n",
              "      display: none;\n",
              "      fill: #1967D2;\n",
              "      height: 32px;\n",
              "      padding: 0 0 0 0;\n",
              "      width: 32px;\n",
              "    }\n",
              "\n",
              "    .colab-df-convert:hover {\n",
              "      background-color: #E2EBFA;\n",
              "      box-shadow: 0px 1px 2px rgba(60, 64, 67, 0.3), 0px 1px 3px 1px rgba(60, 64, 67, 0.15);\n",
              "      fill: #174EA6;\n",
              "    }\n",
              "\n",
              "    [theme=dark] .colab-df-convert {\n",
              "      background-color: #3B4455;\n",
              "      fill: #D2E3FC;\n",
              "    }\n",
              "\n",
              "    [theme=dark] .colab-df-convert:hover {\n",
              "      background-color: #434B5C;\n",
              "      box-shadow: 0px 1px 3px 1px rgba(0, 0, 0, 0.15);\n",
              "      filter: drop-shadow(0px 1px 2px rgba(0, 0, 0, 0.3));\n",
              "      fill: #FFFFFF;\n",
              "    }\n",
              "  </style>\n",
              "\n",
              "      <script>\n",
              "        const buttonEl =\n",
              "          document.querySelector('#df-11c2ed89-de05-40c8-a336-a640046ce46e button.colab-df-convert');\n",
              "        buttonEl.style.display =\n",
              "          google.colab.kernel.accessAllowed ? 'block' : 'none';\n",
              "\n",
              "        async function convertToInteractive(key) {\n",
              "          const element = document.querySelector('#df-11c2ed89-de05-40c8-a336-a640046ce46e');\n",
              "          const dataTable =\n",
              "            await google.colab.kernel.invokeFunction('convertToInteractive',\n",
              "                                                     [key], {});\n",
              "          if (!dataTable) return;\n",
              "\n",
              "          const docLinkHtml = 'Like what you see? Visit the ' +\n",
              "            '<a target=\"_blank\" href=https://colab.research.google.com/notebooks/data_table.ipynb>data table notebook</a>'\n",
              "            + ' to learn more about interactive tables.';\n",
              "          element.innerHTML = '';\n",
              "          dataTable['output_type'] = 'display_data';\n",
              "          await google.colab.output.renderOutput(dataTable, element);\n",
              "          const docLink = document.createElement('div');\n",
              "          docLink.innerHTML = docLinkHtml;\n",
              "          element.appendChild(docLink);\n",
              "        }\n",
              "      </script>\n",
              "    </div>\n",
              "  </div>\n",
              "  "
            ]
          },
          "metadata": {},
          "execution_count": 7
        }
      ]
    },
    {
      "cell_type": "markdown",
      "source": [
        "4. import ADFuller for stationarity check"
      ],
      "metadata": {
        "id": "4xljAiy3SgLH"
      }
    },
    {
      "cell_type": "code",
      "source": [
        "from statsmodels.tsa.stattools import adfuller"
      ],
      "metadata": {
        "id": "bZ0BB4YzFUxK"
      },
      "execution_count": 10,
      "outputs": []
    },
    {
      "cell_type": "code",
      "source": [
        "print('p value of original rgnp')\n",
        "adfuller(train_dt.rgnp)[1]"
      ],
      "metadata": {
        "id": "CIEpjV1RFi01",
        "outputId": "12743cee-7c43-4da5-bb36-5d39e0412870",
        "colab": {
          "base_uri": "https://localhost:8080/"
        }
      },
      "execution_count": 20,
      "outputs": [
        {
          "output_type": "stream",
          "name": "stdout",
          "text": [
            "p value of original rgnp\n"
          ]
        },
        {
          "output_type": "execute_result",
          "data": {
            "text/plain": [
              "0.9861171706093795"
            ]
          },
          "metadata": {},
          "execution_count": 20
        }
      ]
    },
    {
      "cell_type": "markdown",
      "source": [
        "this p value is higher than 0.05 so original rgnap is not stationary\n",
        "\n",
        "now we take first order diferencing rgnp series for stationarity check"
      ],
      "metadata": {
        "id": "m-UM8Q9OGlMw"
      }
    },
    {
      "cell_type": "code",
      "source": [
        "print('p value of 1st order diff rgnp')\n",
        "adfuller(train_dt.rgnp.diff().dropna())[1]"
      ],
      "metadata": {
        "id": "GZb1g358G1CH",
        "outputId": "29b4bc82-80b6-441b-ddfc-af48e4c0785d",
        "colab": {
          "base_uri": "https://localhost:8080/"
        }
      },
      "execution_count": 15,
      "outputs": [
        {
          "output_type": "stream",
          "name": "stdout",
          "text": [
            "p value of 1st order diff rgnp\n"
          ]
        },
        {
          "output_type": "execute_result",
          "data": {
            "text/plain": [
              "4.419602687789602e-06"
            ]
          },
          "metadata": {},
          "execution_count": 15
        }
      ]
    },
    {
      "cell_type": "markdown",
      "source": [
        "p value of 1st order diff rgnp is less than 0.05 so we consider this series of rgnp is stationary\n",
        "\n",
        "all series are becoming stationary at second order differencing we consider second order differencing for further analysis of VAR order selection (AIC lag dermination) & VARMAX"
      ],
      "metadata": {
        "id": "LSLHSD9hLKwJ"
      }
    },
    {
      "cell_type": "code",
      "source": [
        "train_dt.diff2=(train_dt.diff().diff().dropna())"
      ],
      "metadata": {
        "id": "h7wSqjBlL4qX"
      },
      "execution_count": 26,
      "outputs": []
    },
    {
      "cell_type": "code",
      "source": [
        "train_dt.head()"
      ],
      "metadata": {
        "id": "0hK7F0IIOC5h",
        "outputId": "b9cd6c37-8e01-4572-86c4-0c7326b82dc0",
        "colab": {
          "base_uri": "https://localhost:8080/",
          "height": 238
        }
      },
      "execution_count": 29,
      "outputs": [
        {
          "output_type": "execute_result",
          "data": {
            "text/plain": [
              "              rgnp    pgnp   ulc  gdfco   gdf  gdfim  gdfcf  gdfce\n",
              "date                                                              \n",
              "1959-01-01  1606.4  1608.3  47.5   36.9  37.4   26.9   32.3   23.1\n",
              "1959-04-01  1637.0  1622.2  47.5   37.4  37.5   27.0   32.2   23.4\n",
              "1959-07-01  1629.5  1636.2  48.7   37.6  37.6   27.1   32.4   23.4\n",
              "1959-10-01  1643.4  1650.3  48.8   37.7  37.8   27.1   32.5   23.8\n",
              "1960-01-01  1671.6  1664.6  49.1   37.8  37.8   27.2   32.4   23.8"
            ],
            "text/html": [
              "\n",
              "  <div id=\"df-9eab53ac-9327-4799-835f-74798f454210\">\n",
              "    <div class=\"colab-df-container\">\n",
              "      <div>\n",
              "<style scoped>\n",
              "    .dataframe tbody tr th:only-of-type {\n",
              "        vertical-align: middle;\n",
              "    }\n",
              "\n",
              "    .dataframe tbody tr th {\n",
              "        vertical-align: top;\n",
              "    }\n",
              "\n",
              "    .dataframe thead th {\n",
              "        text-align: right;\n",
              "    }\n",
              "</style>\n",
              "<table border=\"1\" class=\"dataframe\">\n",
              "  <thead>\n",
              "    <tr style=\"text-align: right;\">\n",
              "      <th></th>\n",
              "      <th>rgnp</th>\n",
              "      <th>pgnp</th>\n",
              "      <th>ulc</th>\n",
              "      <th>gdfco</th>\n",
              "      <th>gdf</th>\n",
              "      <th>gdfim</th>\n",
              "      <th>gdfcf</th>\n",
              "      <th>gdfce</th>\n",
              "    </tr>\n",
              "    <tr>\n",
              "      <th>date</th>\n",
              "      <th></th>\n",
              "      <th></th>\n",
              "      <th></th>\n",
              "      <th></th>\n",
              "      <th></th>\n",
              "      <th></th>\n",
              "      <th></th>\n",
              "      <th></th>\n",
              "    </tr>\n",
              "  </thead>\n",
              "  <tbody>\n",
              "    <tr>\n",
              "      <th>1959-01-01</th>\n",
              "      <td>1606.4</td>\n",
              "      <td>1608.3</td>\n",
              "      <td>47.5</td>\n",
              "      <td>36.9</td>\n",
              "      <td>37.4</td>\n",
              "      <td>26.9</td>\n",
              "      <td>32.3</td>\n",
              "      <td>23.1</td>\n",
              "    </tr>\n",
              "    <tr>\n",
              "      <th>1959-04-01</th>\n",
              "      <td>1637.0</td>\n",
              "      <td>1622.2</td>\n",
              "      <td>47.5</td>\n",
              "      <td>37.4</td>\n",
              "      <td>37.5</td>\n",
              "      <td>27.0</td>\n",
              "      <td>32.2</td>\n",
              "      <td>23.4</td>\n",
              "    </tr>\n",
              "    <tr>\n",
              "      <th>1959-07-01</th>\n",
              "      <td>1629.5</td>\n",
              "      <td>1636.2</td>\n",
              "      <td>48.7</td>\n",
              "      <td>37.6</td>\n",
              "      <td>37.6</td>\n",
              "      <td>27.1</td>\n",
              "      <td>32.4</td>\n",
              "      <td>23.4</td>\n",
              "    </tr>\n",
              "    <tr>\n",
              "      <th>1959-10-01</th>\n",
              "      <td>1643.4</td>\n",
              "      <td>1650.3</td>\n",
              "      <td>48.8</td>\n",
              "      <td>37.7</td>\n",
              "      <td>37.8</td>\n",
              "      <td>27.1</td>\n",
              "      <td>32.5</td>\n",
              "      <td>23.8</td>\n",
              "    </tr>\n",
              "    <tr>\n",
              "      <th>1960-01-01</th>\n",
              "      <td>1671.6</td>\n",
              "      <td>1664.6</td>\n",
              "      <td>49.1</td>\n",
              "      <td>37.8</td>\n",
              "      <td>37.8</td>\n",
              "      <td>27.2</td>\n",
              "      <td>32.4</td>\n",
              "      <td>23.8</td>\n",
              "    </tr>\n",
              "  </tbody>\n",
              "</table>\n",
              "</div>\n",
              "      <button class=\"colab-df-convert\" onclick=\"convertToInteractive('df-9eab53ac-9327-4799-835f-74798f454210')\"\n",
              "              title=\"Convert this dataframe to an interactive table.\"\n",
              "              style=\"display:none;\">\n",
              "        \n",
              "  <svg xmlns=\"http://www.w3.org/2000/svg\" height=\"24px\"viewBox=\"0 0 24 24\"\n",
              "       width=\"24px\">\n",
              "    <path d=\"M0 0h24v24H0V0z\" fill=\"none\"/>\n",
              "    <path d=\"M18.56 5.44l.94 2.06.94-2.06 2.06-.94-2.06-.94-.94-2.06-.94 2.06-2.06.94zm-11 1L8.5 8.5l.94-2.06 2.06-.94-2.06-.94L8.5 2.5l-.94 2.06-2.06.94zm10 10l.94 2.06.94-2.06 2.06-.94-2.06-.94-.94-2.06-.94 2.06-2.06.94z\"/><path d=\"M17.41 7.96l-1.37-1.37c-.4-.4-.92-.59-1.43-.59-.52 0-1.04.2-1.43.59L10.3 9.45l-7.72 7.72c-.78.78-.78 2.05 0 2.83L4 21.41c.39.39.9.59 1.41.59.51 0 1.02-.2 1.41-.59l7.78-7.78 2.81-2.81c.8-.78.8-2.07 0-2.86zM5.41 20L4 18.59l7.72-7.72 1.47 1.35L5.41 20z\"/>\n",
              "  </svg>\n",
              "      </button>\n",
              "      \n",
              "  <style>\n",
              "    .colab-df-container {\n",
              "      display:flex;\n",
              "      flex-wrap:wrap;\n",
              "      gap: 12px;\n",
              "    }\n",
              "\n",
              "    .colab-df-convert {\n",
              "      background-color: #E8F0FE;\n",
              "      border: none;\n",
              "      border-radius: 50%;\n",
              "      cursor: pointer;\n",
              "      display: none;\n",
              "      fill: #1967D2;\n",
              "      height: 32px;\n",
              "      padding: 0 0 0 0;\n",
              "      width: 32px;\n",
              "    }\n",
              "\n",
              "    .colab-df-convert:hover {\n",
              "      background-color: #E2EBFA;\n",
              "      box-shadow: 0px 1px 2px rgba(60, 64, 67, 0.3), 0px 1px 3px 1px rgba(60, 64, 67, 0.15);\n",
              "      fill: #174EA6;\n",
              "    }\n",
              "\n",
              "    [theme=dark] .colab-df-convert {\n",
              "      background-color: #3B4455;\n",
              "      fill: #D2E3FC;\n",
              "    }\n",
              "\n",
              "    [theme=dark] .colab-df-convert:hover {\n",
              "      background-color: #434B5C;\n",
              "      box-shadow: 0px 1px 3px 1px rgba(0, 0, 0, 0.15);\n",
              "      filter: drop-shadow(0px 1px 2px rgba(0, 0, 0, 0.3));\n",
              "      fill: #FFFFFF;\n",
              "    }\n",
              "  </style>\n",
              "\n",
              "      <script>\n",
              "        const buttonEl =\n",
              "          document.querySelector('#df-9eab53ac-9327-4799-835f-74798f454210 button.colab-df-convert');\n",
              "        buttonEl.style.display =\n",
              "          google.colab.kernel.accessAllowed ? 'block' : 'none';\n",
              "\n",
              "        async function convertToInteractive(key) {\n",
              "          const element = document.querySelector('#df-9eab53ac-9327-4799-835f-74798f454210');\n",
              "          const dataTable =\n",
              "            await google.colab.kernel.invokeFunction('convertToInteractive',\n",
              "                                                     [key], {});\n",
              "          if (!dataTable) return;\n",
              "\n",
              "          const docLinkHtml = 'Like what you see? Visit the ' +\n",
              "            '<a target=\"_blank\" href=https://colab.research.google.com/notebooks/data_table.ipynb>data table notebook</a>'\n",
              "            + ' to learn more about interactive tables.';\n",
              "          element.innerHTML = '';\n",
              "          dataTable['output_type'] = 'display_data';\n",
              "          await google.colab.output.renderOutput(dataTable, element);\n",
              "          const docLink = document.createElement('div');\n",
              "          docLink.innerHTML = docLinkHtml;\n",
              "          element.appendChild(docLink);\n",
              "        }\n",
              "      </script>\n",
              "    </div>\n",
              "  </div>\n",
              "  "
            ]
          },
          "metadata": {},
          "execution_count": 29
        }
      ]
    },
    {
      "cell_type": "code",
      "source": [
        "train_dt.diff2.head()"
      ],
      "metadata": {
        "id": "OF81ppZDNwKl",
        "outputId": "96a2d99d-69c9-49e3-8c99-0e3d4463e326",
        "colab": {
          "base_uri": "https://localhost:8080/",
          "height": 238
        }
      },
      "execution_count": 28,
      "outputs": [
        {
          "output_type": "execute_result",
          "data": {
            "text/plain": [
              "            rgnp  pgnp  ulc         gdfco  gdf  gdfim  gdfcf  gdfce\n",
              "date                                                               \n",
              "1959-07-01 -38.1   0.1  1.2 -3.000000e-01  0.0    0.0    0.3   -0.3\n",
              "1959-10-01  21.4   0.1 -1.1 -1.000000e-01  0.1   -0.1   -0.1    0.4\n",
              "1960-01-01  14.3   0.2  0.2 -7.105427e-15 -0.2    0.1   -0.2   -0.4\n",
              "1960-04-01 -33.0   0.1  0.2  1.000000e-01  0.2    0.1    0.5    0.1\n",
              "1960-07-01   6.4   0.1 -0.1 -1.000000e-01 -0.1   -0.2   -0.3    0.1"
            ],
            "text/html": [
              "\n",
              "  <div id=\"df-cb8c620b-e811-4030-9d43-591d556276bd\">\n",
              "    <div class=\"colab-df-container\">\n",
              "      <div>\n",
              "<style scoped>\n",
              "    .dataframe tbody tr th:only-of-type {\n",
              "        vertical-align: middle;\n",
              "    }\n",
              "\n",
              "    .dataframe tbody tr th {\n",
              "        vertical-align: top;\n",
              "    }\n",
              "\n",
              "    .dataframe thead th {\n",
              "        text-align: right;\n",
              "    }\n",
              "</style>\n",
              "<table border=\"1\" class=\"dataframe\">\n",
              "  <thead>\n",
              "    <tr style=\"text-align: right;\">\n",
              "      <th></th>\n",
              "      <th>rgnp</th>\n",
              "      <th>pgnp</th>\n",
              "      <th>ulc</th>\n",
              "      <th>gdfco</th>\n",
              "      <th>gdf</th>\n",
              "      <th>gdfim</th>\n",
              "      <th>gdfcf</th>\n",
              "      <th>gdfce</th>\n",
              "    </tr>\n",
              "    <tr>\n",
              "      <th>date</th>\n",
              "      <th></th>\n",
              "      <th></th>\n",
              "      <th></th>\n",
              "      <th></th>\n",
              "      <th></th>\n",
              "      <th></th>\n",
              "      <th></th>\n",
              "      <th></th>\n",
              "    </tr>\n",
              "  </thead>\n",
              "  <tbody>\n",
              "    <tr>\n",
              "      <th>1959-07-01</th>\n",
              "      <td>-38.1</td>\n",
              "      <td>0.1</td>\n",
              "      <td>1.2</td>\n",
              "      <td>-3.000000e-01</td>\n",
              "      <td>0.0</td>\n",
              "      <td>0.0</td>\n",
              "      <td>0.3</td>\n",
              "      <td>-0.3</td>\n",
              "    </tr>\n",
              "    <tr>\n",
              "      <th>1959-10-01</th>\n",
              "      <td>21.4</td>\n",
              "      <td>0.1</td>\n",
              "      <td>-1.1</td>\n",
              "      <td>-1.000000e-01</td>\n",
              "      <td>0.1</td>\n",
              "      <td>-0.1</td>\n",
              "      <td>-0.1</td>\n",
              "      <td>0.4</td>\n",
              "    </tr>\n",
              "    <tr>\n",
              "      <th>1960-01-01</th>\n",
              "      <td>14.3</td>\n",
              "      <td>0.2</td>\n",
              "      <td>0.2</td>\n",
              "      <td>-7.105427e-15</td>\n",
              "      <td>-0.2</td>\n",
              "      <td>0.1</td>\n",
              "      <td>-0.2</td>\n",
              "      <td>-0.4</td>\n",
              "    </tr>\n",
              "    <tr>\n",
              "      <th>1960-04-01</th>\n",
              "      <td>-33.0</td>\n",
              "      <td>0.1</td>\n",
              "      <td>0.2</td>\n",
              "      <td>1.000000e-01</td>\n",
              "      <td>0.2</td>\n",
              "      <td>0.1</td>\n",
              "      <td>0.5</td>\n",
              "      <td>0.1</td>\n",
              "    </tr>\n",
              "    <tr>\n",
              "      <th>1960-07-01</th>\n",
              "      <td>6.4</td>\n",
              "      <td>0.1</td>\n",
              "      <td>-0.1</td>\n",
              "      <td>-1.000000e-01</td>\n",
              "      <td>-0.1</td>\n",
              "      <td>-0.2</td>\n",
              "      <td>-0.3</td>\n",
              "      <td>0.1</td>\n",
              "    </tr>\n",
              "  </tbody>\n",
              "</table>\n",
              "</div>\n",
              "      <button class=\"colab-df-convert\" onclick=\"convertToInteractive('df-cb8c620b-e811-4030-9d43-591d556276bd')\"\n",
              "              title=\"Convert this dataframe to an interactive table.\"\n",
              "              style=\"display:none;\">\n",
              "        \n",
              "  <svg xmlns=\"http://www.w3.org/2000/svg\" height=\"24px\"viewBox=\"0 0 24 24\"\n",
              "       width=\"24px\">\n",
              "    <path d=\"M0 0h24v24H0V0z\" fill=\"none\"/>\n",
              "    <path d=\"M18.56 5.44l.94 2.06.94-2.06 2.06-.94-2.06-.94-.94-2.06-.94 2.06-2.06.94zm-11 1L8.5 8.5l.94-2.06 2.06-.94-2.06-.94L8.5 2.5l-.94 2.06-2.06.94zm10 10l.94 2.06.94-2.06 2.06-.94-2.06-.94-.94-2.06-.94 2.06-2.06.94z\"/><path d=\"M17.41 7.96l-1.37-1.37c-.4-.4-.92-.59-1.43-.59-.52 0-1.04.2-1.43.59L10.3 9.45l-7.72 7.72c-.78.78-.78 2.05 0 2.83L4 21.41c.39.39.9.59 1.41.59.51 0 1.02-.2 1.41-.59l7.78-7.78 2.81-2.81c.8-.78.8-2.07 0-2.86zM5.41 20L4 18.59l7.72-7.72 1.47 1.35L5.41 20z\"/>\n",
              "  </svg>\n",
              "      </button>\n",
              "      \n",
              "  <style>\n",
              "    .colab-df-container {\n",
              "      display:flex;\n",
              "      flex-wrap:wrap;\n",
              "      gap: 12px;\n",
              "    }\n",
              "\n",
              "    .colab-df-convert {\n",
              "      background-color: #E8F0FE;\n",
              "      border: none;\n",
              "      border-radius: 50%;\n",
              "      cursor: pointer;\n",
              "      display: none;\n",
              "      fill: #1967D2;\n",
              "      height: 32px;\n",
              "      padding: 0 0 0 0;\n",
              "      width: 32px;\n",
              "    }\n",
              "\n",
              "    .colab-df-convert:hover {\n",
              "      background-color: #E2EBFA;\n",
              "      box-shadow: 0px 1px 2px rgba(60, 64, 67, 0.3), 0px 1px 3px 1px rgba(60, 64, 67, 0.15);\n",
              "      fill: #174EA6;\n",
              "    }\n",
              "\n",
              "    [theme=dark] .colab-df-convert {\n",
              "      background-color: #3B4455;\n",
              "      fill: #D2E3FC;\n",
              "    }\n",
              "\n",
              "    [theme=dark] .colab-df-convert:hover {\n",
              "      background-color: #434B5C;\n",
              "      box-shadow: 0px 1px 3px 1px rgba(0, 0, 0, 0.15);\n",
              "      filter: drop-shadow(0px 1px 2px rgba(0, 0, 0, 0.3));\n",
              "      fill: #FFFFFF;\n",
              "    }\n",
              "  </style>\n",
              "\n",
              "      <script>\n",
              "        const buttonEl =\n",
              "          document.querySelector('#df-cb8c620b-e811-4030-9d43-591d556276bd button.colab-df-convert');\n",
              "        buttonEl.style.display =\n",
              "          google.colab.kernel.accessAllowed ? 'block' : 'none';\n",
              "\n",
              "        async function convertToInteractive(key) {\n",
              "          const element = document.querySelector('#df-cb8c620b-e811-4030-9d43-591d556276bd');\n",
              "          const dataTable =\n",
              "            await google.colab.kernel.invokeFunction('convertToInteractive',\n",
              "                                                     [key], {});\n",
              "          if (!dataTable) return;\n",
              "\n",
              "          const docLinkHtml = 'Like what you see? Visit the ' +\n",
              "            '<a target=\"_blank\" href=https://colab.research.google.com/notebooks/data_table.ipynb>data table notebook</a>'\n",
              "            + ' to learn more about interactive tables.';\n",
              "          element.innerHTML = '';\n",
              "          dataTable['output_type'] = 'display_data';\n",
              "          await google.colab.output.renderOutput(dataTable, element);\n",
              "          const docLink = document.createElement('div');\n",
              "          docLink.innerHTML = docLinkHtml;\n",
              "          element.appendChild(docLink);\n",
              "        }\n",
              "      </script>\n",
              "    </div>\n",
              "  </div>\n",
              "  "
            ]
          },
          "metadata": {},
          "execution_count": 28
        }
      ]
    },
    {
      "cell_type": "markdown",
      "source": [
        "5. import VAR for VAR order selection or lag determination with AIC test"
      ],
      "metadata": {
        "id": "S-ZOQTO4SobM"
      }
    },
    {
      "cell_type": "code",
      "source": [
        "from statsmodels.tsa.api import VAR"
      ],
      "metadata": {
        "id": "6KyjXLJKMx5s"
      },
      "execution_count": 24,
      "outputs": []
    },
    {
      "cell_type": "code",
      "source": [
        "import warnings\n",
        "warnings.filterwarnings('ignore')"
      ],
      "metadata": {
        "id": "MThFQ-d-NHIg"
      },
      "execution_count": 25,
      "outputs": []
    },
    {
      "cell_type": "code",
      "source": [
        "model=VAR(train_dt.diff2)"
      ],
      "metadata": {
        "id": "lYvR9OlpNtri"
      },
      "execution_count": 32,
      "outputs": []
    },
    {
      "cell_type": "code",
      "source": [
        "result=model.select_order(maxlags=12)\n"
      ],
      "metadata": {
        "id": "e33FivWYPSrk"
      },
      "execution_count": 35,
      "outputs": []
    },
    {
      "cell_type": "code",
      "source": [
        "print(result.summary())"
      ],
      "metadata": {
        "id": "mvoWBS7uPZyJ",
        "outputId": "c5dfdb02-19bd-4a27-dcfd-912a196c86f4",
        "colab": {
          "base_uri": "https://localhost:8080/"
        }
      },
      "execution_count": 36,
      "outputs": [
        {
          "output_type": "stream",
          "name": "stdout",
          "text": [
            " VAR Order Selection (* highlights the minimums)  \n",
            "==================================================\n",
            "       AIC         BIC         FPE         HQIC   \n",
            "--------------------------------------------------\n",
            "0     -0.07898      0.1232      0.9241    0.002961\n",
            "1      -0.5721       1.248      0.5662      0.1653\n",
            "2      -0.8256       2.612      0.4482      0.5674\n",
            "3       -1.007       4.048      0.3937       1.042\n",
            "4       -1.255       5.418      0.3399       1.449\n",
            "5       -1.230       7.060      0.4147       2.129\n",
            "6       -1.739       8.169      0.3286       2.276\n",
            "7       -2.142       9.384      0.3340       2.528\n",
            "8       -2.964       10.18      0.2744       2.362\n",
            "9       -4.562       10.20      0.1413       1.420\n",
            "10      -6.541       9.838     0.08188     0.09578\n",
            "11      -8.923       9.073     0.08023      -1.631\n",
            "12     -21.28*     -1.667*  3.604e-05*     -13.33*\n",
            "--------------------------------------------------\n"
          ]
        }
      ]
    },
    {
      "cell_type": "markdown",
      "source": [
        "On the basis of VAR select order summary we come to know that first minimum AIC is found at 4th lag so we will consider 4 lags for VARMAX"
      ],
      "metadata": {
        "id": "KNQPdJIsQcUx"
      }
    },
    {
      "cell_type": "markdown",
      "source": [
        "6. import VARMAX for constructing actual VAR model"
      ],
      "metadata": {
        "id": "A_dYYKycSv3k"
      }
    },
    {
      "cell_type": "code",
      "source": [
        "from statsmodels.tsa.statespace.varmax import VARMAX"
      ],
      "metadata": {
        "id": "hykVPdaGQ9QG"
      },
      "execution_count": 37,
      "outputs": []
    },
    {
      "cell_type": "code",
      "source": [
        "VARMAX_result=model.fit(4)"
      ],
      "metadata": {
        "id": "qvB1SxIFRI-P"
      },
      "execution_count": 38,
      "outputs": []
    },
    {
      "cell_type": "code",
      "source": [
        "print(VARMAX_result.summary())"
      ],
      "metadata": {
        "id": "G8139kPaRhSc",
        "outputId": "897ed5db-545d-4a61-eb31-b802520662e9",
        "colab": {
          "base_uri": "https://localhost:8080/"
        }
      },
      "execution_count": 39,
      "outputs": [
        {
          "output_type": "stream",
          "name": "stdout",
          "text": [
            "  Summary of Regression Results   \n",
            "==================================\n",
            "Model:                         VAR\n",
            "Method:                        OLS\n",
            "Date:           Thu, 19, May, 2022\n",
            "Time:                     12:24:10\n",
            "--------------------------------------------------------------------\n",
            "No. of Equations:         8.00000    BIC:                    4.37122\n",
            "Nobs:                     113.000    HQIC:                  0.584936\n",
            "Log likelihood:          -905.679    FPE:                   0.155570\n",
            "AIC:                     -2.00074    Det(Omega_mle):       0.0200322\n",
            "--------------------------------------------------------------------\n",
            "Results for equation rgnp\n",
            "===========================================================================\n",
            "              coefficient       std. error           t-stat            prob\n",
            "---------------------------------------------------------------------------\n",
            "const            2.430021         2.677505            0.908           0.364\n",
            "L1.rgnp         -0.750066         0.159023           -4.717           0.000\n",
            "L1.pgnp         -0.095621         4.938865           -0.019           0.985\n",
            "L1.ulc          -6.213996         4.637452           -1.340           0.180\n",
            "L1.gdfco        -7.414768        10.184884           -0.728           0.467\n",
            "L1.gdf         -24.864063        20.071245           -1.239           0.215\n",
            "L1.gdfim         1.082913         4.309034            0.251           0.802\n",
            "L1.gdfcf        16.327252         5.892522            2.771           0.006\n",
            "L1.gdfce         0.910522         2.476361            0.368           0.713\n",
            "L2.rgnp         -0.568178         0.163971           -3.465           0.001\n",
            "L2.pgnp         -1.156201         4.931931           -0.234           0.815\n",
            "L2.ulc         -11.157111         5.381825           -2.073           0.038\n",
            "L2.gdfco         3.012518        12.928317            0.233           0.816\n",
            "L2.gdf         -18.143523        24.090598           -0.753           0.451\n",
            "L2.gdfim        -4.438115         4.410654           -1.006           0.314\n",
            "L2.gdfcf        13.468228         7.279772            1.850           0.064\n",
            "L2.gdfce         5.130419         2.805310            1.829           0.067\n",
            "L3.rgnp         -0.514985         0.152724           -3.372           0.001\n",
            "L3.pgnp        -11.483607         5.392037           -2.130           0.033\n",
            "L3.ulc         -14.195308         5.188718           -2.736           0.006\n",
            "L3.gdfco       -10.154967        13.105508           -0.775           0.438\n",
            "L3.gdf         -15.438858        21.610822           -0.714           0.475\n",
            "L3.gdfim        -6.405290         4.292790           -1.492           0.136\n",
            "L3.gdfcf         9.217402         7.081652            1.302           0.193\n",
            "L3.gdfce         5.279941         2.833925            1.863           0.062\n",
            "L4.rgnp         -0.166878         0.138786           -1.202           0.229\n",
            "L4.pgnp          5.329900         5.795837            0.920           0.358\n",
            "L4.ulc          -4.834548         5.259608           -0.919           0.358\n",
            "L4.gdfco        10.841602        10.526530            1.030           0.303\n",
            "L4.gdf         -17.651510        18.746673           -0.942           0.346\n",
            "L4.gdfim        -1.971233         4.029415           -0.489           0.625\n",
            "L4.gdfcf         0.617824         5.842684            0.106           0.916\n",
            "L4.gdfce        -2.977187         2.594251           -1.148           0.251\n",
            "===========================================================================\n",
            "\n",
            "Results for equation pgnp\n",
            "===========================================================================\n",
            "              coefficient       std. error           t-stat            prob\n",
            "---------------------------------------------------------------------------\n",
            "const            0.094556         0.063491            1.489           0.136\n",
            "L1.rgnp         -0.004231         0.003771           -1.122           0.262\n",
            "L1.pgnp          0.082204         0.117114            0.702           0.483\n",
            "L1.ulc          -0.097769         0.109966           -0.889           0.374\n",
            "L1.gdfco        -0.220150         0.241511           -0.912           0.362\n",
            "L1.gdf           0.438078         0.475943            0.920           0.357\n",
            "L1.gdfim        -0.116223         0.102179           -1.137           0.255\n",
            "L1.gdfcf         0.236541         0.139727            1.693           0.090\n",
            "L1.gdfce        -0.026930         0.058721           -0.459           0.647\n",
            "L2.rgnp          0.004056         0.003888            1.043           0.297\n",
            "L2.pgnp         -0.127478         0.116949           -1.090           0.276\n",
            "L2.ulc           0.083656         0.127617            0.656           0.512\n",
            "L2.gdfco        -0.181640         0.306565           -0.593           0.554\n",
            "L2.gdf           0.035376         0.571252            0.062           0.951\n",
            "L2.gdfim        -0.115745         0.104588           -1.107           0.268\n",
            "L2.gdfcf        -0.015993         0.172623           -0.093           0.926\n",
            "L2.gdfce         0.088611         0.066521            1.332           0.183\n",
            "L3.rgnp          0.002509         0.003621            0.693           0.488\n",
            "L3.pgnp         -0.023973         0.127860           -0.187           0.851\n",
            "L3.ulc           0.033721         0.123038            0.274           0.784\n",
            "L3.gdfco        -0.281483         0.310767           -0.906           0.365\n",
            "L3.gdf          -0.214294         0.512450           -0.418           0.676\n",
            "L3.gdfim        -0.127143         0.101794           -1.249           0.212\n",
            "L3.gdfcf         0.028885         0.167925            0.172           0.863\n",
            "L3.gdfce         0.016817         0.067200            0.250           0.802\n",
            "L4.rgnp         -0.000618         0.003291           -0.188           0.851\n",
            "L4.pgnp          0.042486         0.137435            0.309           0.757\n",
            "L4.ulc           0.015547         0.124719            0.125           0.901\n",
            "L4.gdfco        -0.189719         0.249612           -0.760           0.447\n",
            "L4.gdf           0.099973         0.444534            0.225           0.822\n",
            "L4.gdfim        -0.072495         0.095548           -0.759           0.448\n",
            "L4.gdfcf        -0.061357         0.138546           -0.443           0.658\n",
            "L4.gdfce        -0.020523         0.061517           -0.334           0.739\n",
            "===========================================================================\n",
            "\n",
            "Results for equation ulc\n",
            "===========================================================================\n",
            "              coefficient       std. error           t-stat            prob\n",
            "---------------------------------------------------------------------------\n",
            "const           -0.053626         0.096020           -0.558           0.577\n",
            "L1.rgnp          0.005745         0.005703            1.007           0.314\n",
            "L1.pgnp         -0.136788         0.177117           -0.772           0.440\n",
            "L1.ulc          -0.495266         0.166308           -2.978           0.003\n",
            "L1.gdfco        -0.397535         0.365249           -1.088           0.276\n",
            "L1.gdf           1.800037         0.719792            2.501           0.012\n",
            "L1.gdfim        -0.130264         0.154530           -0.843           0.399\n",
            "L1.gdfcf        -0.528955         0.211317           -2.503           0.012\n",
            "L1.gdfce        -0.044271         0.088807           -0.499           0.618\n",
            "L2.rgnp          0.011354         0.005880            1.931           0.054\n",
            "L2.pgnp          0.009702         0.176868            0.055           0.956\n",
            "L2.ulc          -0.099997         0.193002           -0.518           0.604\n",
            "L2.gdfco        -0.817458         0.463633           -1.763           0.078\n",
            "L2.gdf           1.117940         0.863933            1.294           0.196\n",
            "L2.gdfim         0.132396         0.158174            0.837           0.403\n",
            "L2.gdfcf        -0.277444         0.261066           -1.063           0.288\n",
            "L2.gdfce        -0.198781         0.100604           -1.976           0.048\n",
            "L3.rgnp          0.011693         0.005477            2.135           0.033\n",
            "L3.pgnp          0.346813         0.193368            1.794           0.073\n",
            "L3.ulc          -0.025547         0.186077           -0.137           0.891\n",
            "L3.gdfco        -0.306628         0.469988           -0.652           0.514\n",
            "L3.gdf           0.986201         0.775004            1.273           0.203\n",
            "L3.gdfim         0.084262         0.153947            0.547           0.584\n",
            "L3.gdfcf        -0.328288         0.253961           -1.293           0.196\n",
            "L3.gdfce        -0.157949         0.101630           -1.554           0.120\n",
            "L4.rgnp          0.004917         0.004977            0.988           0.323\n",
            "L4.pgnp          0.229430         0.207849            1.104           0.270\n",
            "L4.ulc           0.037877         0.188619            0.201           0.841\n",
            "L4.gdfco        -0.470222         0.377501           -1.246           0.213\n",
            "L4.gdf           0.620381         0.672290            0.923           0.356\n",
            "L4.gdfim         0.179095         0.144502            1.239           0.215\n",
            "L4.gdfcf         0.198607         0.209529            0.948           0.343\n",
            "L4.gdfce        -0.036155         0.093035           -0.389           0.698\n",
            "===========================================================================\n",
            "\n",
            "Results for equation gdfco\n",
            "===========================================================================\n",
            "              coefficient       std. error           t-stat            prob\n",
            "---------------------------------------------------------------------------\n",
            "const            0.040011         0.030021            1.333           0.183\n",
            "L1.rgnp         -0.001920         0.001783           -1.077           0.282\n",
            "L1.pgnp         -0.072381         0.055377           -1.307           0.191\n",
            "L1.ulc          -0.060315         0.051997           -1.160           0.246\n",
            "L1.gdfco        -0.852758         0.114197           -7.467           0.000\n",
            "L1.gdf           0.434064         0.225047            1.929           0.054\n",
            "L1.gdfim         0.037258         0.048315            0.771           0.441\n",
            "L1.gdfcf        -0.092569         0.066069           -1.401           0.161\n",
            "L1.gdfce         0.001254         0.027766            0.045           0.964\n",
            "L2.rgnp         -0.000903         0.001839           -0.491           0.623\n",
            "L2.pgnp         -0.098972         0.055299           -1.790           0.073\n",
            "L2.ulc          -0.020407         0.060343           -0.338           0.735\n",
            "L2.gdfco        -0.802415         0.144958           -5.536           0.000\n",
            "L2.gdf           0.399859         0.270114            1.480           0.139\n",
            "L2.gdfim         0.073417         0.049454            1.485           0.138\n",
            "L2.gdfcf        -0.041899         0.081624           -0.513           0.608\n",
            "L2.gdfce        -0.012623         0.031454           -0.401           0.688\n",
            "L3.rgnp         -0.000841         0.001712           -0.491           0.623\n",
            "L3.pgnp          0.014940         0.060458            0.247           0.805\n",
            "L3.ulc           0.031259         0.058178            0.537           0.591\n",
            "L3.gdfco        -0.475317         0.146945           -3.235           0.001\n",
            "L3.gdf           0.049640         0.242310            0.205           0.838\n",
            "L3.gdfim         0.037832         0.048133            0.786           0.432\n",
            "L3.gdfcf         0.001531         0.079403            0.019           0.985\n",
            "L3.gdfce         0.009834         0.031775            0.309           0.757\n",
            "L4.rgnp          0.000502         0.001556            0.323           0.747\n",
            "L4.pgnp          0.021677         0.064985            0.334           0.739\n",
            "L4.ulc           0.012629         0.058973            0.214           0.830\n",
            "L4.gdfco        -0.281313         0.118028           -2.383           0.017\n",
            "L4.gdf          -0.152831         0.210196           -0.727           0.467\n",
            "L4.gdfim         0.044867         0.045180            0.993           0.321\n",
            "L4.gdfcf         0.062066         0.065511            0.947           0.343\n",
            "L4.gdfce        -0.014219         0.029088           -0.489           0.625\n",
            "===========================================================================\n",
            "\n",
            "Results for equation gdf\n",
            "===========================================================================\n",
            "              coefficient       std. error           t-stat            prob\n",
            "---------------------------------------------------------------------------\n",
            "const            0.007036         0.019365            0.363           0.716\n",
            "L1.rgnp          0.000167         0.001150            0.145           0.885\n",
            "L1.pgnp          0.032251         0.035720            0.903           0.367\n",
            "L1.ulc          -0.005285         0.033540           -0.158           0.875\n",
            "L1.gdfco         0.013623         0.073661            0.185           0.853\n",
            "L1.gdf          -0.279506         0.145163           -1.925           0.054\n",
            "L1.gdfim         0.027655         0.031165            0.887           0.375\n",
            "L1.gdfcf         0.026646         0.042617            0.625           0.532\n",
            "L1.gdfce        -0.009551         0.017910           -0.533           0.594\n",
            "L2.rgnp          0.000560         0.001186            0.472           0.637\n",
            "L2.pgnp         -0.079633         0.035670           -2.233           0.026\n",
            "L2.ulc          -0.001400         0.038923           -0.036           0.971\n",
            "L2.gdfco        -0.054219         0.093502           -0.580           0.562\n",
            "L2.gdf          -0.010857         0.174232           -0.062           0.950\n",
            "L2.gdfim         0.033689         0.031899            1.056           0.291\n",
            "L2.gdfcf        -0.020837         0.052650           -0.396           0.692\n",
            "L2.gdfce        -0.009148         0.020289           -0.451           0.652\n",
            "L3.rgnp          0.000946         0.001105            0.856           0.392\n",
            "L3.pgnp         -0.037163         0.038997           -0.953           0.341\n",
            "L3.ulc           0.011733         0.037527            0.313           0.755\n",
            "L3.gdfco         0.025826         0.094784            0.272           0.785\n",
            "L3.gdf           0.062331         0.156297            0.399           0.690\n",
            "L3.gdfim         0.076010         0.031047            2.448           0.014\n",
            "L3.gdfcf        -0.040828         0.051217           -0.797           0.425\n",
            "L3.gdfce        -0.033158         0.020496           -1.618           0.106\n",
            "L4.rgnp         -0.000046         0.001004           -0.046           0.963\n",
            "L4.pgnp          0.121837         0.041918            2.907           0.004\n",
            "L4.ulc          -0.071979         0.038039           -1.892           0.058\n",
            "L4.gdfco         0.072031         0.076132            0.946           0.344\n",
            "L4.gdf           0.326105         0.135583            2.405           0.016\n",
            "L4.gdfim         0.058796         0.029142            2.018           0.044\n",
            "L4.gdfcf        -0.038331         0.042256           -0.907           0.364\n",
            "L4.gdfce        -0.061981         0.018763           -3.303           0.001\n",
            "===========================================================================\n",
            "\n",
            "Results for equation gdfim\n",
            "===========================================================================\n",
            "              coefficient       std. error           t-stat            prob\n",
            "---------------------------------------------------------------------------\n",
            "const           -0.090111         0.094024           -0.958           0.338\n",
            "L1.rgnp          0.000120         0.005584            0.021           0.983\n",
            "L1.pgnp          0.133455         0.173434            0.769           0.442\n",
            "L1.ulc           0.230635         0.162850            1.416           0.157\n",
            "L1.gdfco         0.153838         0.357655            0.430           0.667\n",
            "L1.gdf           0.989766         0.704827            1.404           0.160\n",
            "L1.gdfim        -0.366913         0.151317           -2.425           0.015\n",
            "L1.gdfcf        -0.023226         0.206923           -0.112           0.911\n",
            "L1.gdfce         0.032370         0.086961            0.372           0.710\n",
            "L2.rgnp         -0.004681         0.005758           -0.813           0.416\n",
            "L2.pgnp          0.286962         0.173191            1.657           0.098\n",
            "L2.ulc           0.062975         0.188990            0.333           0.739\n",
            "L2.gdfco         0.558171         0.453994            1.229           0.219\n",
            "L2.gdf          -0.316201         0.845972           -0.374           0.709\n",
            "L2.gdfim        -0.293256         0.154886           -1.893           0.058\n",
            "L2.gdfcf         0.164223         0.255638            0.642           0.521\n",
            "L2.gdfce         0.038789         0.098512            0.394           0.694\n",
            "L3.rgnp         -0.008393         0.005363           -1.565           0.118\n",
            "L3.pgnp          0.402066         0.189348            2.123           0.034\n",
            "L3.ulc           0.159806         0.182208            0.877           0.380\n",
            "L3.gdfco         0.353693         0.460216            0.769           0.442\n",
            "L3.gdf          -1.272158         0.758891           -1.676           0.094\n",
            "L3.gdfim        -0.231479         0.150747           -1.536           0.125\n",
            "L3.gdfcf         0.460145         0.248681            1.850           0.064\n",
            "L3.gdfce         0.115537         0.099517            1.161           0.246\n",
            "L4.rgnp         -0.005804         0.004874           -1.191           0.234\n",
            "L4.pgnp          0.280189         0.203528            1.377           0.169\n",
            "L4.ulc          -0.042873         0.184698           -0.232           0.816\n",
            "L4.gdfco         0.263797         0.369652            0.714           0.475\n",
            "L4.gdf          -0.665280         0.658313           -1.011           0.312\n",
            "L4.gdfim        -0.032456         0.141498           -0.229           0.819\n",
            "L4.gdfcf         0.312591         0.205173            1.524           0.128\n",
            "L4.gdfce        -0.000055         0.091100           -0.001           1.000\n",
            "===========================================================================\n",
            "\n",
            "Results for equation gdfcf\n",
            "===========================================================================\n",
            "              coefficient       std. error           t-stat            prob\n",
            "---------------------------------------------------------------------------\n",
            "const           -0.041178         0.056333           -0.731           0.465\n",
            "L1.rgnp         -0.002572         0.003346           -0.769           0.442\n",
            "L1.pgnp          0.054027         0.103910            0.520           0.603\n",
            "L1.ulc          -0.157556         0.097569           -1.615           0.106\n",
            "L1.gdfco        -0.298011         0.214282           -1.391           0.164\n",
            "L1.gdf           1.328904         0.422284            3.147           0.002\n",
            "L1.gdfim         0.245942         0.090659            2.713           0.007\n",
            "L1.gdfcf        -0.610122         0.123974           -4.921           0.000\n",
            "L1.gdfce        -0.192342         0.052101           -3.692           0.000\n",
            "L2.rgnp         -0.003726         0.003450           -1.080           0.280\n",
            "L2.pgnp          0.088885         0.103764            0.857           0.392\n",
            "L2.ulc          -0.239913         0.113230           -2.119           0.034\n",
            "L2.gdfco        -0.239037         0.272002           -0.879           0.380\n",
            "L2.gdf           1.518625         0.506848            2.996           0.003\n",
            "L2.gdfim         0.033537         0.092797            0.361           0.718\n",
            "L2.gdfcf        -0.663722         0.153161           -4.333           0.000\n",
            "L2.gdfce        -0.140479         0.059022           -2.380           0.017\n",
            "L3.rgnp          0.000131         0.003213            0.041           0.968\n",
            "L3.pgnp          0.055857         0.113444            0.492           0.622\n",
            "L3.ulc          -0.105921         0.109167           -0.970           0.332\n",
            "L3.gdfco        -0.229773         0.275730           -0.833           0.405\n",
            "L3.gdf           0.547686         0.454675            1.205           0.228\n",
            "L3.gdfim         0.270028         0.090317            2.990           0.003\n",
            "L3.gdfcf        -0.152479         0.148993           -1.023           0.306\n",
            "L3.gdfce        -0.163651         0.059624           -2.745           0.006\n",
            "L4.rgnp          0.000518         0.002920            0.177           0.859\n",
            "L4.pgnp          0.359919         0.121940            2.952           0.003\n",
            "L4.ulc          -0.190278         0.110658           -1.720           0.086\n",
            "L4.gdfco        -0.043476         0.221470           -0.196           0.844\n",
            "L4.gdf           0.440413         0.394416            1.117           0.264\n",
            "L4.gdfim         0.074793         0.084776            0.882           0.378\n",
            "L4.gdfcf        -0.280249         0.122926           -2.280           0.023\n",
            "L4.gdfce        -0.181084         0.054581           -3.318           0.001\n",
            "===========================================================================\n",
            "\n",
            "Results for equation gdfce\n",
            "===========================================================================\n",
            "              coefficient       std. error           t-stat            prob\n",
            "---------------------------------------------------------------------------\n",
            "const           -0.141012         0.157361           -0.896           0.370\n",
            "L1.rgnp         -0.004339         0.009346           -0.464           0.642\n",
            "L1.pgnp          0.460153         0.290265            1.585           0.113\n",
            "L1.ulc          -0.066122         0.272551           -0.243           0.808\n",
            "L1.gdfco        -0.062414         0.598583           -0.104           0.917\n",
            "L1.gdf           1.371788         1.179621            1.163           0.245\n",
            "L1.gdfim         0.127465         0.253249            0.503           0.615\n",
            "L1.gdfcf         0.071207         0.346313            0.206           0.837\n",
            "L1.gdfce        -0.308256         0.145540           -2.118           0.034\n",
            "L2.rgnp         -0.009196         0.009637           -0.954           0.340\n",
            "L2.pgnp          0.412986         0.289858            1.425           0.154\n",
            "L2.ulc          -0.399569         0.316299           -1.263           0.206\n",
            "L2.gdfco        -0.331334         0.759819           -0.436           0.663\n",
            "L2.gdf           1.528254         1.415845            1.079           0.280\n",
            "L2.gdfim         0.185624         0.259222            0.716           0.474\n",
            "L2.gdfcf         0.187718         0.427845            0.439           0.661\n",
            "L2.gdfce        -0.359564         0.164873           -2.181           0.029\n",
            "L3.rgnp         -0.015314         0.008976           -1.706           0.088\n",
            "L3.pgnp         -0.115675         0.316899           -0.365           0.715\n",
            "L3.ulc           0.124086         0.304950            0.407           0.684\n",
            "L3.gdfco        -0.396933         0.770233           -0.515           0.606\n",
            "L3.gdf           0.932961         1.270105            0.735           0.463\n",
            "L3.gdfim        -0.068789         0.252295           -0.273           0.785\n",
            "L3.gdfcf        -0.126047         0.416201           -0.303           0.762\n",
            "L3.gdfce        -0.105270         0.166555           -0.632           0.527\n",
            "L4.rgnp         -0.009219         0.008157           -1.130           0.258\n",
            "L4.pgnp          0.448445         0.340631            1.317           0.188\n",
            "L4.ulc          -0.428451         0.309116           -1.386           0.166\n",
            "L4.gdfco        -0.155466         0.618662           -0.251           0.802\n",
            "L4.gdf           3.387650         1.101774            3.075           0.002\n",
            "L4.gdfim         0.076950         0.236816            0.325           0.745\n",
            "L4.gdfcf        -0.045155         0.343384           -0.132           0.895\n",
            "L4.gdfce        -0.473155         0.152468           -3.103           0.002\n",
            "===========================================================================\n",
            "\n",
            "Correlation matrix of residuals\n",
            "             rgnp      pgnp       ulc     gdfco       gdf     gdfim     gdfcf     gdfce\n",
            "rgnp     1.000000  0.248342 -0.668492 -0.160133 -0.047777  0.084925  0.009962  0.205557\n",
            "pgnp     0.248342  1.000000 -0.148392 -0.167766 -0.134896  0.007830 -0.169435  0.032134\n",
            "ulc     -0.668492 -0.148392  1.000000  0.268127  0.327761  0.171497  0.135410 -0.026037\n",
            "gdfco   -0.160133 -0.167766  0.268127  1.000000  0.303563  0.232997 -0.035042  0.184834\n",
            "gdf     -0.047777 -0.134896  0.327761  0.303563  1.000000  0.196670  0.446012  0.309277\n",
            "gdfim    0.084925  0.007830  0.171497  0.232997  0.196670  1.000000 -0.089852  0.707809\n",
            "gdfcf    0.009962 -0.169435  0.135410 -0.035042  0.446012 -0.089852  1.000000 -0.197099\n",
            "gdfce    0.205557  0.032134 -0.026037  0.184834  0.309277  0.707809 -0.197099  1.000000\n",
            "\n",
            "\n",
            "\n"
          ]
        }
      ]
    },
    {
      "cell_type": "markdown",
      "source": [
        "7. Use of VAR model for forecasting next (10% time)"
      ],
      "metadata": {
        "id": "szEjw2_hS6en"
      }
    },
    {
      "cell_type": "code",
      "source": [
        ""
      ],
      "metadata": {
        "id": "L_AmoxcYS7tt"
      },
      "execution_count": null,
      "outputs": []
    }
  ]
}